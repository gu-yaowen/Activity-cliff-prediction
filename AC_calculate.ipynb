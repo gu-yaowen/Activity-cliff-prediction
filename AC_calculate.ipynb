{
 "cells": [
  {
   "cell_type": "code",
   "execution_count": 91,
   "metadata": {},
   "outputs": [],
   "source": [
    "import os\n",
    "import pickle\n",
    "import numpy as np\n",
    "import pandas as pd\n",
    "from scipy.stats import mode\n",
    "from tqdm.notebook import tqdm\n",
    "from rdkit import Chem\n",
    "from rdkit.Chem import AllChem\n",
    "from rdkit import DataStructs\n",
    "from rdkit.Chem.Scaffolds import MurckoScaffold\n",
    "from MoleculeACE import MPNN, Data, Descriptors, \\\n",
    "                        calc_rmse, calc_cliff_rmse, get_benchmark_config"
   ]
  },
  {
   "cell_type": "code",
   "execution_count": 117,
   "metadata": {},
   "outputs": [
    {
     "name": "stderr",
     "output_type": "stream",
     "text": [
      "C:\\Users\\Administrator\\AppData\\Local\\Temp\\ipykernel_27716\\2220156028.py:1: DtypeWarning: Columns (5,6) have mixed types. Specify dtype option on import or set low_memory=False.\n",
      "  integrated_data = pd.read_csv('Integrated_dataset/integrated_data.csv')\n"
     ]
    }
   ],
   "source": [
    "integrated_data = pd.read_csv('Integrated_dataset/integrated_data.csv')"
   ]
  },
  {
   "cell_type": "code",
   "execution_count": 113,
   "metadata": {},
   "outputs": [
    {
     "name": "stdout",
     "output_type": "stream",
     "text": [
      "Number of compounds:  934824\n",
      "Number of proteins:  6508\n",
      "Number of CPIs:  2426682\n"
     ]
    }
   ],
   "source": [
    "compounds = integrated_data['SMILES'].value_counts().index.tolist()\n",
    "protein = integrated_data['UniProt_ID'].value_counts().index.tolist()\n",
    "print('Number of compounds: ', len(compounds))\n",
    "print('Number of proteins: ', len(protein))\n",
    "print('Number of CPIs: ', len(integrated_data))"
   ]
  },
  {
   "cell_type": "code",
   "execution_count": 118,
   "metadata": {},
   "outputs": [],
   "source": [
    "# split data by activity type\n",
    "integrated_ki = integrated_data[integrated_data['Activity_Type']=='pKi']\n",
    "integrated_kd = integrated_data[integrated_data['Activity_Type']=='pKd']\n",
    "integrated_ic50 = integrated_data[integrated_data['Activity_Type']=='pIC50']\n",
    "integrated_ec50 = integrated_data[integrated_data['Activity_Type']=='pEC50']"
   ]
  },
  {
   "cell_type": "code",
   "execution_count": 119,
   "metadata": {},
   "outputs": [],
   "source": [
    "def check_filter_conflicts(df, threshold, aggregation='mean'):\n",
    "    \"\"\"\n",
    "    Check if there are conflicts in the data.\n",
    "    params:\n",
    "        df: DataFrame. Should contain columns 'UniProt_ID', 'SMILES', 'Activity_Value' and 'Activity_Type'.\n",
    "        threshold: float. Default: 1.0 based on papyrus paper.\n",
    "        aggregation: str. Default: 'mean'. Either 'mean' or 'mode'.\n",
    "    return:\n",
    "        df: DataFrame\n",
    "        aggregated_df: DataFrame\n",
    "    \"\"\"\n",
    "    \n",
    "    df['is_conflict'] = 0\n",
    "    \n",
    "    for _, group in df.groupby('UniProt_ID'):\n",
    "        for smiles, smiles_group in group.groupby('SMILES'):\n",
    "            if len(smiles_group) > 1:\n",
    "                max_diff = abs(smiles_group['Activity_Value'].diff().max())\n",
    "                if max_diff >= threshold:\n",
    "                    df.loc[smiles_group.index, 'is_conflict'] = 1\n",
    "\n",
    "    filtered_df = df[df['is_conflict'] == 0].copy()\n",
    "    \n",
    "    if aggregation == 'mean':\n",
    "        aggregated_df = filtered_df.groupby(['UniProt_ID', 'SMILES']).agg(\n",
    "            activity_value=('Activity_Value', 'mean')\n",
    "        ).reset_index()\n",
    "    elif aggregation == 'mode':\n",
    "        aggregated_df = filtered_df.groupby(['UniProt_ID', 'SMILES']).apply(\n",
    "            lambda x: mode(x['Activity_Value'])[0][0]\n",
    "        ).reset_index()\n",
    "    else:\n",
    "        raise ValueError(\"Aggregation method should be either 'mean' or 'mode'.\")\n",
    "    aggregated_df.columns = ['UniProt_ID', 'SMILES', 'Activity_Value']\n",
    "\n",
    "    return df, aggregated_df"
   ]
  },
  {
   "cell_type": "code",
   "execution_count": 120,
   "metadata": {},
   "outputs": [
    {
     "name": "stderr",
     "output_type": "stream",
     "text": [
      "C:\\Users\\Administrator\\AppData\\Local\\Temp\\ipykernel_27716\\2937848518.py:13: SettingWithCopyWarning: \n",
      "A value is trying to be set on a copy of a slice from a DataFrame.\n",
      "Try using .loc[row_indexer,col_indexer] = value instead\n",
      "\n",
      "See the caveats in the documentation: https://pandas.pydata.org/pandas-docs/stable/user_guide/indexing.html#returning-a-view-versus-a-copy\n",
      "  df['is_conflict'] = 0\n",
      "C:\\Users\\Administrator\\AppData\\Local\\Temp\\ipykernel_27716\\2937848518.py:13: SettingWithCopyWarning: \n",
      "A value is trying to be set on a copy of a slice from a DataFrame.\n",
      "Try using .loc[row_indexer,col_indexer] = value instead\n",
      "\n",
      "See the caveats in the documentation: https://pandas.pydata.org/pandas-docs/stable/user_guide/indexing.html#returning-a-view-versus-a-copy\n",
      "  df['is_conflict'] = 0\n",
      "C:\\Users\\Administrator\\AppData\\Local\\Temp\\ipykernel_27716\\2937848518.py:13: SettingWithCopyWarning: \n",
      "A value is trying to be set on a copy of a slice from a DataFrame.\n",
      "Try using .loc[row_indexer,col_indexer] = value instead\n",
      "\n",
      "See the caveats in the documentation: https://pandas.pydata.org/pandas-docs/stable/user_guide/indexing.html#returning-a-view-versus-a-copy\n",
      "  df['is_conflict'] = 0\n",
      "C:\\Users\\Administrator\\AppData\\Local\\Temp\\ipykernel_27716\\2937848518.py:13: SettingWithCopyWarning: \n",
      "A value is trying to be set on a copy of a slice from a DataFrame.\n",
      "Try using .loc[row_indexer,col_indexer] = value instead\n",
      "\n",
      "See the caveats in the documentation: https://pandas.pydata.org/pandas-docs/stable/user_guide/indexing.html#returning-a-view-versus-a-copy\n",
      "  df['is_conflict'] = 0\n"
     ]
    }
   ],
   "source": [
    "integrated_ki, new_ki = check_filter_conflicts(integrated_ki, 1, 'mean')\n",
    "integrated_kd, new_kd = check_filter_conflicts(integrated_kd, 1, 'mean')\n",
    "integrated_ic50, new_ic50 = check_filter_conflicts(integrated_ic50, 1, 'mean')\n",
    "integrated_ec50, new_ec50 = check_filter_conflicts(integrated_ec50, 1, 'mean')"
   ]
  },
  {
   "cell_type": "code",
   "execution_count": null,
   "metadata": {},
   "outputs": [],
   "source": [
    "import matplotlib.pyplot as plt\n",
    "import seaborn as sns\n",
    "sns.set_style('whitegrid')\n",
    "\n",
    "def plot_overlap(df1, df2, title):\n",
    "    \"\"\"\n",
    "    Plot the overlap between two datasets.\n",
    "    params:\n",
    "        df1: DataFrame. Should contain columns 'UniProt_ID', 'SMILES', 'Activity_Value' and 'Activity_Type'.\n",
    "        df2: DataFrame. Should contain columns 'UniProt_ID', 'SMILES', 'Activity_Value' and 'Activity_Type'.\n",
    "        title: str. Title of the plot.\n",
    "    return:\n",
    "        None\n",
    "    \"\"\"\n",
    "    \n",
    "    df1 = df1[['UniProt_ID', 'SMILES']].drop_duplicates()\n",
    "    df2 = df2[['UniProt_ID', 'SMILES']].drop_duplicates()\n",
    "    \n",
    "    df1['in_df2'] = 1\n",
    "    df2['in_df1'] = 1\n",
    "    \n",
    "    df = pd.merge(df1, df2, on=['UniProt_ID', 'SMILES'], how='outer')\n",
    "    df = df.fillna(0)\n",
    "    \n",
    "    df['in_df1'] = df['in_df1'].astype(int)\n",
    "    df['in_df2'] = df['in_df2'].astype(int)\n",
    "    \n",
    "    df = df.groupby(['in_df1', 'in_df2']).size().reset_index()\n",
    "    df.columns = ['in_df1', 'in_df2', 'count']\n",
    "    \n",
    "    df['label'] = df['in_df1'].astype(str) + ' in df1, ' + df['in_df2'].astype(str) + ' in df2'\n",
    "    \n",
    "    fig = px.bar(df, x='label', y='count', title=title)\n",
    "    fig.show()"
   ]
  },
  {
   "cell_type": "code",
   "execution_count": 135,
   "metadata": {},
   "outputs": [],
   "source": [
    "def print_stat(df):\n",
    "    \"\"\"\n",
    "    Print the statistics of the dataset.\n",
    "    params:\n",
    "        df: DataFrame. Should contain columns 'UniProt_ID', 'SMILES', 'Activity_Value' and 'Activity_Type'.\n",
    "    return:\n",
    "        None\n",
    "    \"\"\"\n",
    "    \n",
    "    print('Number of compounds: ', len(df['SMILES'].unique()))\n",
    "    print('Number of proteins: ', len(df['UniProt_ID'].unique()))\n",
    "    print('Number of CPIs: ', len(df))\n",
    "    print('Number of activities: ', len(df['Activity_Value'].unique()))\n",
    "    print('Activity range: ', df['Activity_Value'].min(), df['Activity_Value'].max())\n",
    "    print('Activity mean: ', df['Activity_Value'].mean())\n",
    "    print('Activity std: ', df['Activity_Value'].std())"
   ]
  },
  {
   "cell_type": "code",
   "execution_count": 142,
   "metadata": {},
   "outputs": [
    {
     "name": "stdout",
     "output_type": "stream",
     "text": [
      "Number of compounds:  928950\n",
      "Number of proteins:  6508\n",
      "Number of CPIs:  1968946\n",
      "Number of activities:  11928\n",
      "Activity range:  0.1 18.0\n",
      "Activity mean:  6.337825926014173\n",
      "Activity std:  1.4687441145426805\n"
     ]
    }
   ],
   "source": [
    "new_ki['Activity_Type'] = 'pKi'\n",
    "new_kd['Activity_Type'] = 'pKd'\n",
    "new_ic50['Activity_Type'] = 'pIC50'\n",
    "new_ec50['Activity_Type'] = 'pEC50'\n",
    "integrated_new = pd.concat([new_ki, new_kd, new_ic50, new_ec50], ignore_index=True)\n",
    "print_stat(integrated_new)"
   ]
  },
  {
   "cell_type": "code",
   "execution_count": 143,
   "metadata": {},
   "outputs": [
    {
     "name": "stdout",
     "output_type": "stream",
     "text": [
      "Number of compounds:  851066\n",
      "Number of proteins:  1075\n",
      "Number of CPIs:  1783818\n",
      "Number of activities:  11788\n",
      "Activity range:  0.1 18.0\n",
      "Activity mean:  6.368151571547795\n",
      "Activity std:  1.4709685010731655\n"
     ]
    }
   ],
   "source": [
    "cutoff_protein = 300\n",
    "protein_list = integrated_new['UniProt_ID'].value_counts()[\n",
    "                integrated_new['UniProt_ID'].value_counts() >= cutoff_protein].index.tolist()\n",
    "integrated_plus = integrated_new[integrated_new['UniProt_ID'].isin(protein_list)]\n",
    "print_stat(integrated_plus)"
   ]
  },
  {
   "cell_type": "code",
   "execution_count": 144,
   "metadata": {},
   "outputs": [
    {
     "name": "stdout",
     "output_type": "stream",
     "text": [
      "Number of compounds:  195647\n",
      "Number of proteins:  909\n",
      "Number of CPIs:  487971\n",
      "Number of activities:  4300\n",
      "Activity range:  0.1 13.854\n",
      "Activity mean:  6.64652732567896\n",
      "Activity std:  1.4505253199677326\n",
      "----------------\n",
      "Number of compounds:  13735\n",
      "Number of proteins:  703\n",
      "Number of CPIs:  37126\n",
      "Number of activities:  2181\n",
      "Activity range:  0.1 13.481\n",
      "Activity mean:  6.191698355441787\n",
      "Activity std:  1.525458045458144\n",
      "----------------\n",
      "Number of compounds:  613008\n",
      "Number of proteins:  1062\n",
      "Number of CPIs:  1117188\n",
      "Number of activities:  10540\n",
      "Activity range:  0.1 18.0\n",
      "Activity mean:  6.278143715088436\n",
      "Activity std:  1.4602367906197482\n",
      "----------------\n",
      "Number of compounds:  91767\n",
      "Number of proteins:  699\n",
      "Number of CPIs:  141533\n",
      "Number of activities:  3089\n",
      "Activity range:  0.1 15.9\n",
      "Activity mean:  6.165141701935237\n",
      "Activity std:  1.481445282067574\n"
     ]
    }
   ],
   "source": [
    "print_stat(integrated_plus[integrated_plus['Activity_Type']=='pKi'])\n",
    "print('----------------')\n",
    "print_stat(integrated_plus[integrated_plus['Activity_Type']=='pKd'])\n",
    "print('----------------')\n",
    "print_stat(integrated_plus[integrated_plus['Activity_Type']=='pIC50'])\n",
    "print('----------------')\n",
    "print_stat(integrated_plus[integrated_plus['Activity_Type']=='pEC50'])"
   ]
  },
  {
   "cell_type": "code",
   "execution_count": 145,
   "metadata": {},
   "outputs": [],
   "source": [
    "new_ki = new_ki[new_ki['UniProt_ID'].isin(protein_list)]\n",
    "new_kd = new_kd[new_kd['UniProt_ID'].isin(protein_list)]\n",
    "new_ic50 = new_ic50[new_ic50['UniProt_ID'].isin(protein_list)]\n",
    "new_ec50 = new_ec50[new_ec50['UniProt_ID'].isin(protein_list)]"
   ]
  },
  {
   "cell_type": "code",
   "execution_count": 132,
   "metadata": {},
   "outputs": [],
   "source": [
    "integrated_plus.to_csv('Integrated_dataset/integrated_plus.csv', index=False)"
   ]
  },
  {
   "cell_type": "code",
   "execution_count": 134,
   "metadata": {},
   "outputs": [
    {
     "name": "stdout",
     "output_type": "stream",
     "text": [
      "Number of compounds:  851066\n",
      "Number of proteins:  1075\n",
      "Number of CPIs:  1783818\n"
     ]
    }
   ],
   "source": [
    "compounds = integrated_plus['SMILES'].value_counts().index.tolist()\n",
    "protein = integrated_plus['UniProt_ID'].value_counts().index.tolist()\n",
    "print('Number of compounds: ', len(compounds))\n",
    "print('Number of proteins: ', len(protein))\n",
    "print('Number of CPIs: ', len(integrated_plus))"
   ]
  },
  {
   "cell_type": "code",
   "execution_count": null,
   "metadata": {},
   "outputs": [],
   "source": [
    "def cal_ecfp4_sim_matrix(smiles_list):\n",
    "    \"\"\"\n",
    "    Calculate ECFP4 similarity matrix for a list of smiles.\n",
    "    param \n",
    "        smiles_list: list of smiles\n",
    "    return\n",
    "        similarity_matrix: similarity matrix\n",
    "    \"\"\"\n",
    "    fingerprints = [AllChem.GetMorganFingerprintAsBitVect(Chem.MolFromSmiles(smiles), 2)\n",
    "                     for smiles in smiles_list]\n",
    "    \n",
    "    n = len(smiles_list)\n",
    "    similarity_matrix = np.zeros((n, n), dtype=np.float32)\n",
    "    \n",
    "    for i in range(n):\n",
    "        for j in range(i, n):\n",
    "            if i == j:\n",
    "                similarity_matrix[i, j] = 1.0\n",
    "            else:\n",
    "                sim = DataStructs.TanimotoSimilarity(fingerprints[i], fingerprints[j])\n",
    "                similarity_matrix[i, j] = round(sim, 3)\n",
    "                similarity_matrix[j, i] = round(sim, 3)\n",
    "            \n",
    "    return similarity_matrix\n",
    "\n",
    "\n",
    "def cal_scaffold_sim_matrix(smiles_list):\n",
    "    \"\"\"\n",
    "    Calculate Scaffold similarity matrix for a list of smiles.\n",
    "    param \n",
    "        smiles_list: list of smiles\n",
    "    return\n",
    "        similarity_matrix: similarity matrix    \n",
    "    \"\"\"\n",
    "\n",
    "    scaffolds = []\n",
    "    for smiles in smiles_list:\n",
    "        try:\n",
    "            scaffolds.append(MurckoScaffold.GetScaffoldForMol(Chem.MolFromSmiles(smiles)))\n",
    "        except:\n",
    "            scaffolds.append(Chem.MolFromSmiles(smiles))\n",
    "            print(f'{smiles} can not be converted to scaffold, take the original molecule instead.')\n",
    "        pass\n",
    "    fingerprints = [AllChem.GetMorganFingerprintAsBitVect(scaffold, 2) \n",
    "                    for scaffold in scaffolds]\n",
    "    \n",
    "    n = len(smiles_list)\n",
    "    similarity_matrix = np.zeros((n, n), dtype=np.float32)\n",
    "    \n",
    "    for i in range(n):\n",
    "        for j in range(i, n):\n",
    "            if i == j:\n",
    "                similarity_matrix[i, j] = 1.0\n",
    "            else:\n",
    "                sim = DataStructs.TanimotoSimilarity(fingerprints[i], fingerprints[j])\n",
    "                similarity_matrix[i, j] = round(sim, 3)\n",
    "                similarity_matrix[j, i] = round(sim, 3)\n",
    "            \n",
    "    return similarity_matrix\n",
    "\n",
    "def jaccard_similarity(str1, str2):\n",
    "\n",
    "    set1 = set(str1)\n",
    "    set2 = set(str2)\n",
    "    intersection = len(set1 & set2)\n",
    "    union = len(set1 | set2)\n",
    "\n",
    "    return intersection / union\n",
    "\n",
    "def cal_smiles_sim_matrix(smiles_list):\n",
    "    \"\"\"\n",
    "    Calculate Sequence similarity matrix for a list of smiles\n",
    "    param \n",
    "        smiles_list: list of smiles\n",
    "    return\n",
    "        similarity_matrix: similarity matrix\n",
    "    \"\"\"\n",
    "\n",
    "    n = len(smiles_list)\n",
    "    similarity_matrix = np.zeros((n, n), dtype=np.float16)\n",
    "    \n",
    "    for i in range(n):\n",
    "        for j in range(i, n):\n",
    "            if i == j:\n",
    "                similarity_matrix[i, j] = 1.0\n",
    "            else:\n",
    "                sim = jaccard_similarity(smiles_list[i], smiles_list[j])\n",
    "                similarity_matrix[i, j] = round(sim, 3)\n",
    "                similarity_matrix[j, i] = round(sim, 3)\n",
    "                \n",
    "    return similarity_matrix\n",
    "\n",
    "def cal_sim_target_set(df):\n",
    "    \"\"\"\n",
    "    Calculate similarity matrix for each target\n",
    "    param \n",
    "        df: dataframe with columns ['UniProt_ID', 'SMILES']\n",
    "    return\n",
    "        target_sim_dict: dict with key as target and value as\n",
    "        [smiles_list, ecfp4_sim_matrix, scaffold_sim_matrix, smiles_sim_matrix]\n",
    "    \"\"\"\n",
    "\n",
    "    target_list = list(df['UniProt_ID'].value_counts().index)\n",
    "    target_sim_dict = {}\n",
    "    print('Processing similarity matrix for each target...')\n",
    "    for target in tqdm(target_list):\n",
    "        subset = df[df['UniProt_ID']==target]\n",
    "        if subset.shape[0] > 1:\n",
    "            smiles_list = subset['SMILES'].unique()\n",
    "            target_sim_dict[target] = [smiles_list]  \n",
    "            target_sim_dict[target].append(cal_ecfp4_sim_matrix(smiles_list))\n",
    "            target_sim_dict[target].append(cal_scaffold_sim_matrix(smiles_list))\n",
    "            target_sim_dict[target].append(cal_smiles_sim_matrix(smiles_list))\n",
    "    return target_sim_dict\n",
    "\n",
    "def save_dict(obj, name):\n",
    "    with open(name + '.pkl', 'wb') as f:\n",
    "        pickle.dump(obj, f, pickle.HIGHEST_PROTOCOL)"
   ]
  },
  {
   "cell_type": "code",
   "execution_count": 146,
   "metadata": {},
   "outputs": [
    {
     "name": "stdout",
     "output_type": "stream",
     "text": [
      "Processing similarity matrix for each target...\n"
     ]
    },
    {
     "data": {
      "application/vnd.jupyter.widget-view+json": {
       "model_id": "c01c4bb438d142e6b05d565a49784bd6",
       "version_major": 2,
       "version_minor": 0
      },
      "text/plain": [
       "  0%|          | 0/909 [00:00<?, ?it/s]"
      ]
     },
     "metadata": {},
     "output_type": "display_data"
    },
    {
     "name": "stderr",
     "output_type": "stream",
     "text": [
      "[21:56:29] Unusual charge on atom 16 number of radical electrons set to zero\n",
      "[21:57:31] Unusual charge on atom 16 number of radical electrons set to zero\n",
      "[21:59:44] Unusual charge on atom 16 number of radical electrons set to zero\n",
      "[22:00:41] Unusual charge on atom 16 number of radical electrons set to zero\n",
      "[22:11:08] Unusual charge on atom 16 number of radical electrons set to zero\n",
      "[22:11:35] Unusual charge on atom 16 number of radical electrons set to zero\n",
      "[22:21:18] Unusual charge on atom 16 number of radical electrons set to zero\n",
      "[22:21:35] Unusual charge on atom 16 number of radical electrons set to zero\n",
      "[22:33:48] Unusual charge on atom 16 number of radical electrons set to zero\n",
      "[22:33:50] Unusual charge on atom 16 number of radical electrons set to zero\n",
      "[22:34:35] Unusual charge on atom 16 number of radical electrons set to zero\n",
      "[22:34:37] Unusual charge on atom 16 number of radical electrons set to zero\n",
      "[22:42:02] Unusual charge on atom 16 number of radical electrons set to zero\n",
      "[22:42:02] Unusual charge on atom 16 number of radical electrons set to zero\n",
      "[22:43:17] Unusual charge on atom 16 number of radical electrons set to zero\n",
      "[22:43:17] Unusual charge on atom 16 number of radical electrons set to zero\n",
      "[22:44:06] Unusual charge on atom 16 number of radical electrons set to zero\n",
      "[22:44:06] Unusual charge on atom 16 number of radical electrons set to zero\n",
      "[22:44:17] Unusual charge on atom 16 number of radical electrons set to zero\n",
      "[22:44:17] Unusual charge on atom 16 number of radical electrons set to zero\n",
      "[22:44:45] Unusual charge on atom 16 number of radical electrons set to zero\n",
      "[22:44:45] Unusual charge on atom 16 number of radical electrons set to zero\n",
      "[22:44:56] Unusual charge on atom 16 number of radical electrons set to zero\n",
      "[22:44:56] Unusual charge on atom 16 number of radical electrons set to zero\n"
     ]
    }
   ],
   "source": [
    "# calculate similarity matrix for each target in ki dataset\n",
    "ki_target_sim_dict = cal_sim_target_set(new_ki)\n",
    "if not os.path.exists('Integrated_dataset/sim_matrix'):\n",
    "    os.mkdir('Integrated_dataset/sim_matrix')\n",
    "save_dict(ki_target_sim_dict, 'Integrated_dataset/sim_matrix/ki_target')"
   ]
  },
  {
   "cell_type": "code",
   "execution_count": 147,
   "metadata": {},
   "outputs": [
    {
     "name": "stdout",
     "output_type": "stream",
     "text": [
      "Processing similarity matrix for each target...\n"
     ]
    },
    {
     "data": {
      "application/vnd.jupyter.widget-view+json": {
       "model_id": "2a67f9b47d5d43f192557f67111bdd8a",
       "version_major": 2,
       "version_minor": 0
      },
      "text/plain": [
       "  0%|          | 0/703 [00:00<?, ?it/s]"
      ]
     },
     "metadata": {},
     "output_type": "display_data"
    }
   ],
   "source": [
    "# calculate similarity matrix for each target in kd dataset\n",
    "kd_target_sim_dict = cal_sim_target_set(new_kd)\n",
    "if not os.path.exists('Integrated_dataset/sim_matrix'): \n",
    "    os.mkdir('Integrated_dataset/sim_matrix')\n",
    "save_dict(kd_target_sim_dict, 'Integrated_dataset/sim_matrix/kd_target')"
   ]
  },
  {
   "cell_type": "code",
   "execution_count": 148,
   "metadata": {},
   "outputs": [
    {
     "name": "stdout",
     "output_type": "stream",
     "text": [
      "Processing similarity matrix for each target...\n"
     ]
    },
    {
     "data": {
      "application/vnd.jupyter.widget-view+json": {
       "model_id": "5e1826de6ada4d2482f26da29e04a9b9",
       "version_major": 2,
       "version_minor": 0
      },
      "text/plain": [
       "  0%|          | 0/1062 [00:00<?, ?it/s]"
      ]
     },
     "metadata": {},
     "output_type": "display_data"
    },
    {
     "name": "stderr",
     "output_type": "stream",
     "text": [
      "[00:09:43] Explicit valence for atom # 0 C greater than permitted\n"
     ]
    },
    {
     "name": "stdout",
     "output_type": "stream",
     "text": [
      "C[C+](=O)(Nc1ccccc1)C(C#N)=Cc1ccc(O)c(O)c1 can not be converted to scaffold, take the original molecule instead.\n"
     ]
    }
   ],
   "source": [
    "# calculate similarity matrix for each target in ic50 dataset\n",
    "ic50_target_sim_dict = cal_sim_target_set(new_ic50)\n",
    "if not os.path.exists('Integrated_dataset/sim_matrix'): \n",
    "    os.mkdir('Integrated_dataset/sim_matrix')\n",
    "save_dict(ic50_target_sim_dict, 'Integrated_dataset/sim_matrix/ic50_target')"
   ]
  },
  {
   "cell_type": "code",
   "execution_count": 149,
   "metadata": {},
   "outputs": [
    {
     "name": "stdout",
     "output_type": "stream",
     "text": [
      "Processing similarity matrix for each target...\n"
     ]
    },
    {
     "data": {
      "application/vnd.jupyter.widget-view+json": {
       "model_id": "db0a2ea4d10a449f8f70b804911e0fd5",
       "version_major": 2,
       "version_minor": 0
      },
      "text/plain": [
       "  0%|          | 0/699 [00:00<?, ?it/s]"
      ]
     },
     "metadata": {},
     "output_type": "display_data"
    }
   ],
   "source": [
    "# calculate similarity matrix for each target in ec50 dataset\n",
    "ec50_target_sim_dict = cal_sim_target_set(new_ec50)\n",
    "if not os.path.exists('Integrated_dataset/sim_matrix'):\n",
    "    os.mkdir('Integrated_dataset/sim_matrix')\n",
    "save_dict(ec50_target_sim_dict, 'Integrated_dataset/sim_matrix/ec50_target')"
   ]
  },
  {
   "cell_type": "code",
   "execution_count": 150,
   "metadata": {},
   "outputs": [
    {
     "name": "stdout",
     "output_type": "stream",
     "text": [
      "Ki dataset: 487971, number of protein: 909\n",
      "Kd dataset: 37126, number of protein: 703\n",
      "IC50 dataset: 1117188, number of protein: 1062\n",
      "EC50 dataset: 141533, number of protein: 699\n",
      "Sum of all datasets: 1783818, number of protein: 6508\n"
     ]
    }
   ],
   "source": [
    "print(f'Ki dataset: {len(new_ki)}, number of protein: {len(new_ki[\"UniProt_ID\"].unique())}')\n",
    "print(f'Kd dataset: {len(new_kd)}, number of protein: {len(new_kd[\"UniProt_ID\"].unique())}')\n",
    "print(f'IC50 dataset: {len(new_ic50)}, number of protein: {len(new_ic50[\"UniProt_ID\"].unique())}')\n",
    "print(f'EC50 dataset: {len(new_ec50)}, number of protein: {len(new_ec50[\"UniProt_ID\"].unique())}')\n",
    "print(f'Sum of all datasets: {len(new_ki)+len(new_kd)+len(new_ic50)+len(new_ec50)}, '\n",
    "      f'number of protein: {len(integrated_data[\"UniProt_ID\"].unique())}')"
   ]
  },
  {
   "cell_type": "code",
   "execution_count": 151,
   "metadata": {},
   "outputs": [],
   "source": [
    "def extract_mmp(sim_mat1, sim_mat2, sim_mat3, threshold=0.9):\n",
    "    \"\"\"\n",
    "    Extract matched molecular pairs from three similarity matrices.\n",
    "    param\n",
    "        sim_mat1: similarity matrix 1\n",
    "        sim_mat2: similarity matrix 2\n",
    "        sim_mat3: similarity matrix 3\n",
    "        threshold: similarity threshold\n",
    "    \"\"\"\n",
    "\n",
    "    assert sim_mat1.shape == sim_mat2.shape == sim_mat3.shape, \"All matrices must have the same shape.\"\n",
    "    \n",
    "    pairs = []\n",
    "    n, m = sim_mat1.shape\n",
    "    for i in range(n):\n",
    "        for j in range(i+1, m):\n",
    "            if sim_mat1[i, j] > threshold or sim_mat2[i, j] > threshold or sim_mat3[i, j] > threshold:\n",
    "                pairs.append((i, j))     \n",
    "                          \n",
    "    return pairs\n",
    "\n",
    "def compare_activity_values(df, pairs):\n",
    "    \"\"\"\n",
    "    Compare activity values for each pair of molecules.\n",
    "    param:\n",
    "        df: dataframe with columns ['smiles', 'activity_value']\n",
    "        pairs: list of pairs of molecules\n",
    "    return:\n",
    "        dataframe with columns ['start_index', 'end_index', 'start_smiles', 'end_smiles',\n",
    "                                'start_activity_value', 'end_activity_value', 'label']\n",
    "    \"\"\"\n",
    "    \n",
    "    data = {\n",
    "        'UniProt_ID': [],\n",
    "        'start_index': [],\n",
    "        'end_index': [],\n",
    "        'start_smiles': [],\n",
    "        'end_smiles': [],\n",
    "        'start_activity_value': [],\n",
    "        'end_activity_value': [],\n",
    "        'label': []\n",
    "    }\n",
    "    smiles_list = df['SMILES'].unique()\n",
    "    smiles_activity = dict(zip(df['SMILES'], df['Activity_Value']))\n",
    "    target = df['UniProt_ID'].unique()[0]\n",
    "\n",
    "    for i, j in pairs:\n",
    "        start_smiles = smiles_list[i]\n",
    "        end_smiles = smiles_list[j]\n",
    "        start_activity_value = smiles_activity[start_smiles]\n",
    "        end_activity_value = smiles_activity[end_smiles]\n",
    "\n",
    "        label = 1 if abs(start_activity_value - end_activity_value) >= 2 else 0\n",
    "        \n",
    "        data['UniProt_ID'].append(target)\n",
    "        data['start_index'].append(i)\n",
    "        data['end_index'].append(j)\n",
    "        data['start_smiles'].append(start_smiles)\n",
    "        data['end_smiles'].append(end_smiles)\n",
    "        data['start_activity_value'].append(start_activity_value)\n",
    "        data['end_activity_value'].append(end_activity_value)\n",
    "        data['label'].append(label)\n",
    "        \n",
    "    return pd.DataFrame(data)\n"
   ]
  },
  {
   "cell_type": "code",
   "execution_count": 152,
   "metadata": {},
   "outputs": [
    {
     "data": {
      "application/vnd.jupyter.widget-view+json": {
       "model_id": "edb297ac337b41c1beb0b099f7a286e5",
       "version_major": 2,
       "version_minor": 0
      },
      "text/plain": [
       "  0%|          | 0/909 [00:00<?, ?it/s]"
      ]
     },
     "metadata": {},
     "output_type": "display_data"
    }
   ],
   "source": [
    "# extract mmps and mmp-activity cliffs for kd dataset\n",
    "# ki_target_sim_dict = pickle.load(open('Integrated_dataset/sim_matrix/ki_target.pkl', 'rb'))\n",
    "ac_ki = pd.DataFrame()\n",
    "for protein in tqdm(new_ki['UniProt_ID'].unique()):\n",
    "    if len(new_ki[new_ki['UniProt_ID']==protein]) < 2:\n",
    "        continue\n",
    "    smiles_list, ecfp4_sim_matrix, scaffold_sim_matrix, smiles_sim_matrix = ki_target_sim_dict[protein]\n",
    "    pairs = extract_mmp(ecfp4_sim_matrix, scaffold_sim_matrix, smiles_sim_matrix, threshold=0.9)\n",
    "    ac_ki = pd.concat([ac_ki, \n",
    "                       compare_activity_values(new_ki[new_ki['UniProt_ID']==protein], pairs)])\n",
    "ac_ki.to_csv('Integrated_dataset/AC_ki.csv', index=False)"
   ]
  },
  {
   "cell_type": "code",
   "execution_count": 153,
   "metadata": {},
   "outputs": [
    {
     "data": {
      "application/vnd.jupyter.widget-view+json": {
       "model_id": "6f315169958e4716ba5334f97a53e0c0",
       "version_major": 2,
       "version_minor": 0
      },
      "text/plain": [
       "  0%|          | 0/703 [00:00<?, ?it/s]"
      ]
     },
     "metadata": {},
     "output_type": "display_data"
    }
   ],
   "source": [
    "# extract mmps and mmp-activity cliffs for kd dataset\n",
    "kd_target_sim_dict = pickle.load(open('Integrated_dataset/sim_matrix/kd_target.pkl', 'rb'))\n",
    "ac_kd = pd.DataFrame()\n",
    "for protein in tqdm(new_kd['UniProt_ID'].unique()):\n",
    "    if len(new_kd[new_kd['UniProt_ID']==protein]) < 2:\n",
    "        continue\n",
    "    smiles_list, ecfp4_sim_matrix, scaffold_sim_matrix, smiles_sim_matrix = kd_target_sim_dict[protein]\n",
    "    pairs = extract_mmp(ecfp4_sim_matrix, scaffold_sim_matrix, smiles_sim_matrix, threshold=0.9)\n",
    "    ac_kd = pd.concat([ac_kd, \n",
    "                       compare_activity_values(new_kd[new_kd['UniProt_ID']==protein], pairs)])\n",
    "ac_kd.to_csv('Integrated_dataset/AC_kd.csv', index=False)"
   ]
  },
  {
   "cell_type": "code",
   "execution_count": 154,
   "metadata": {},
   "outputs": [
    {
     "data": {
      "application/vnd.jupyter.widget-view+json": {
       "model_id": "78446255f5934259a85a140c0300db86",
       "version_major": 2,
       "version_minor": 0
      },
      "text/plain": [
       "  0%|          | 0/699 [00:00<?, ?it/s]"
      ]
     },
     "metadata": {},
     "output_type": "display_data"
    }
   ],
   "source": [
    "# extract mmps and mmp-activity cliffs for ec50 dataset\n",
    "ec50_target_sim_dict = pickle.load(open('Integrated_dataset/sim_matrix/ec50_target.pkl', 'rb'))\n",
    "ac_ec50 = pd.DataFrame()\n",
    "for protein in tqdm(new_ec50['UniProt_ID'].unique()):\n",
    "    if len(new_ec50[new_ec50['UniProt_ID']==protein]) < 2:\n",
    "        continue\n",
    "    smiles_list, ecfp4_sim_matrix, scaffold_sim_matrix, smiles_sim_matrix = ec50_target_sim_dict[protein]\n",
    "    pairs = extract_mmp(ecfp4_sim_matrix, scaffold_sim_matrix, smiles_sim_matrix, threshold=0.9)\n",
    "    ac_ec50 = pd.concat([ac_ec50, \n",
    "                       compare_activity_values(new_ec50[new_ec50['UniProt_ID']==protein], pairs)])\n",
    "ac_ec50.to_csv('Integrated_dataset/AC_ec50.csv', index=False)"
   ]
  },
  {
   "cell_type": "code",
   "execution_count": 183,
   "metadata": {},
   "outputs": [
    {
     "data": {
      "text/plain": [
       "UniProt_ID\n",
       "P42336    1590412\n",
       "Q13547     545489\n",
       "Q16539     517357\n",
       "P35968     430574\n",
       "P00533     382910\n",
       "           ...   \n",
       "P25090          1\n",
       "Q14012          1\n",
       "Q8TDV5          1\n",
       "P04757          1\n",
       "Q932Y6          1\n",
       "Name: count, Length: 1015, dtype: int64"
      ]
     },
     "execution_count": 183,
     "metadata": {},
     "output_type": "execute_result"
    }
   ],
   "source": [
    "ac_ic50[ac_ic50['label'] == 1]['UniProt_ID'].value_counts()"
   ]
  },
  {
   "cell_type": "code",
   "execution_count": 182,
   "metadata": {},
   "outputs": [
    {
     "data": {
      "text/plain": [
       "UniProt_ID\n",
       "P42336    7923511\n",
       "Q13547    2621926\n",
       "P48736    2127894\n",
       "P35968    1841336\n",
       "Q16539    1836243\n",
       "           ...   \n",
       "O95264        320\n",
       "Q70Z44        319\n",
       "Q9UEE5        314\n",
       "Q9Y5Y6        313\n",
       "P04757        301\n",
       "Name: count, Length: 1002, dtype: int64"
      ]
     },
     "execution_count": 182,
     "metadata": {},
     "output_type": "execute_result"
    }
   ],
   "source": [
    "ac_ic50['UniProt_ID'].value_counts()[ac_ic50['UniProt_ID'].value_counts() >= 300]"
   ]
  },
  {
   "cell_type": "code",
   "execution_count": 173,
   "metadata": {},
   "outputs": [],
   "source": [
    "del ac_ki, ac_kd, ac_ec50, ki_target_sim_dict, kd_target_sim_dict, ec50_target_sim_dict\n",
    "del smiles_list, ecfp4_sim_matrix, scaffold_sim_matrix, smiles_sim_matrix, pairs"
   ]
  },
  {
   "cell_type": "code",
   "execution_count": null,
   "metadata": {},
   "outputs": [],
   "source": [
    "# extract mmps and mmp-activity cliffs for ec50 dataset\n",
    "ec50_target_sim_dict = pickle.load(open('Integrated_dataset/sim_matrix/ec50_target.pkl', 'rb'))\n",
    "ac_ec50 = pd.DataFrame()\n",
    "for protein in tqdm(new_ec50['UniProt_ID'].unique()):\n",
    "    if len(new_ec50[new_ec50['UniProt_ID']==protein]) < 2:\n",
    "        continue\n",
    "    smiles_list, ecfp4_sim_matrix, scaffold_sim_matrix, smiles_sim_matrix = ec50_target_sim_dict[protein]\n",
    "    pairs = extract_mmp(ecfp4_sim_matrix, scaffold_sim_matrix, smiles_sim_matrix, threshold=0.9)\n",
    "    ac_ec50 = pd.concat([ac_ec50, \n",
    "                       compare_activity_values(new_ec50[new_ec50['UniProt_ID']==protein], pairs)])\n",
    "ac_ec50.to_csv('Integrated_dataset/AC_ec50.csv', index=False)"
   ]
  },
  {
   "cell_type": "code",
   "execution_count": 177,
   "metadata": {},
   "outputs": [
    {
     "data": {
      "application/vnd.jupyter.widget-view+json": {
       "model_id": "0340e92900d7438abcaab80665c1852f",
       "version_major": 2,
       "version_minor": 0
      },
      "text/plain": [
       "  0%|          | 0/1062 [00:00<?, ?it/s]"
      ]
     },
     "metadata": {},
     "output_type": "display_data"
    }
   ],
   "source": [
    "# extract mmps and mmp-activity cliffs for ec50 dataset\n",
    "# ic50_target_sim_dict = pickle.load(open('Integrated_dataset/sim_matrix/ic50_target.pkl', 'rb'))\n",
    "ac_ic50 = pd.DataFrame()\n",
    "for protein in tqdm(new_ic50['UniProt_ID'].unique()):\n",
    "    if len(new_ic50[new_ic50['UniProt_ID']==protein]) < 2:\n",
    "        continue\n",
    "    smiles_list, ecfp4_sim_matrix, scaffold_sim_matrix, smiles_sim_matrix = ic50_target_sim_dict[protein]\n",
    "    pairs = extract_mmp(ecfp4_sim_matrix, scaffold_sim_matrix, smiles_sim_matrix, threshold=0.9)\n",
    "    ac_ic50 = pd.concat([ac_ic50, \n",
    "                       compare_activity_values(new_ic50[new_ic50['UniProt_ID']==protein], pairs)])\n",
    "ac_ic50.to_csv('Integrated_dataset/AC_ic50.csv', index=False)"
   ]
  },
  {
   "cell_type": "code",
   "execution_count": 180,
   "metadata": {},
   "outputs": [
    {
     "data": {
      "text/plain": [
       "label\n",
       "0.0    66334699\n",
       "1.0    15027924\n",
       "Name: count, dtype: int64"
      ]
     },
     "execution_count": 180,
     "metadata": {},
     "output_type": "execute_result"
    }
   ],
   "source": [
    "ac_ic50['label'].value_counts()"
   ]
  },
  {
   "cell_type": "code",
   "execution_count": 110,
   "metadata": {},
   "outputs": [
    {
     "data": {
      "text/plain": [
       "UniProt_ID\n",
       "P00918    15961\n",
       "P30556    15331\n",
       "P50052    15038\n",
       "P23944    10586\n",
       "P43140     6785\n",
       "          ...  \n",
       "Q8VH26      532\n",
       "Q9UGN5      529\n",
       "Q16236      523\n",
       "Q00987      510\n",
       "P00338      509\n",
       "Name: count, Length: 101, dtype: int64"
      ]
     },
     "execution_count": 110,
     "metadata": {},
     "output_type": "execute_result"
    }
   ],
   "source": [
    "ac_kd['UniProt_ID'].value_counts()[ac_kd['UniProt_ID'].value_counts() > 500]"
   ]
  },
  {
   "cell_type": "code",
   "execution_count": null,
   "metadata": {},
   "outputs": [
    {
     "data": {
      "text/html": [
       "<div>\n",
       "<style scoped>\n",
       "    .dataframe tbody tr th:only-of-type {\n",
       "        vertical-align: middle;\n",
       "    }\n",
       "\n",
       "    .dataframe tbody tr th {\n",
       "        vertical-align: top;\n",
       "    }\n",
       "\n",
       "    .dataframe thead th {\n",
       "        text-align: right;\n",
       "    }\n",
       "</style>\n",
       "<table border=\"1\" class=\"dataframe\">\n",
       "  <thead>\n",
       "    <tr style=\"text-align: right;\">\n",
       "      <th></th>\n",
       "      <th>UniProt_ID</th>\n",
       "      <th>start_index</th>\n",
       "      <th>end_index</th>\n",
       "      <th>start_smiles</th>\n",
       "      <th>end_smiles</th>\n",
       "      <th>start_activity_value</th>\n",
       "      <th>end_activity_value</th>\n",
       "      <th>label</th>\n",
       "    </tr>\n",
       "  </thead>\n",
       "  <tbody>\n",
       "    <tr>\n",
       "      <th>153</th>\n",
       "      <td>A0A1D8D5K2</td>\n",
       "      <td>1.0</td>\n",
       "      <td>5.0</td>\n",
       "      <td>CCCCN1C(=N)C(C(CC2CCCNC2=O)NC(=O)C(Cc2ccc(F)cc...</td>\n",
       "      <td>Cc1cc(C(=O)NC(Cc2ccc(F)cc2)C(=O)NC(CC2CCCNC2=O...</td>\n",
       "      <td>5.59</td>\n",
       "      <td>8.40</td>\n",
       "      <td>1.0</td>\n",
       "    </tr>\n",
       "    <tr>\n",
       "      <th>162</th>\n",
       "      <td>A0A1D8D5K2</td>\n",
       "      <td>4.0</td>\n",
       "      <td>5.0</td>\n",
       "      <td>Cc1cc(C(=O)NC(Cc2ccc(F)cc2)C(=O)NC(CC2CCCNC2=O...</td>\n",
       "      <td>Cc1cc(C(=O)NC(Cc2ccc(F)cc2)C(=O)NC(CC2CCCNC2=O...</td>\n",
       "      <td>6.25</td>\n",
       "      <td>8.40</td>\n",
       "      <td>1.0</td>\n",
       "    </tr>\n",
       "    <tr>\n",
       "      <th>179</th>\n",
       "      <td>A3EZI9</td>\n",
       "      <td>0.0</td>\n",
       "      <td>5.0</td>\n",
       "      <td>C=CC1CC1(NC(=O)C1CC2CN1C(=O)C(C(C)(C)C)NC(=O)O...</td>\n",
       "      <td>C=CC1CC1(NC(=O)C1CC2CN1C(=O)C(C1CCCCC1)NC(=O)O...</td>\n",
       "      <td>10.70</td>\n",
       "      <td>7.82</td>\n",
       "      <td>1.0</td>\n",
       "    </tr>\n",
       "    <tr>\n",
       "      <th>180</th>\n",
       "      <td>A3EZI9</td>\n",
       "      <td>0.0</td>\n",
       "      <td>7.0</td>\n",
       "      <td>C=CC1CC1(NC(=O)C1CC2CN1C(=O)C(C(C)(C)C)NC(=O)O...</td>\n",
       "      <td>C=CCCCS(=O)(=O)NC(=O)C(CCC)NC(=O)C1NC(=O)C(C(C...</td>\n",
       "      <td>10.70</td>\n",
       "      <td>5.80</td>\n",
       "      <td>1.0</td>\n",
       "    </tr>\n",
       "    <tr>\n",
       "      <th>181</th>\n",
       "      <td>A3EZI9</td>\n",
       "      <td>0.0</td>\n",
       "      <td>8.0</td>\n",
       "      <td>C=CC1CC1(NC(=O)C1CC2CN1C(=O)C(C(C)(C)C)NC(=O)O...</td>\n",
       "      <td>C=CCCCS(=O)(=O)NC(=O)c1ccccc1NC(=O)C(NC(=O)OC(...</td>\n",
       "      <td>10.70</td>\n",
       "      <td>6.66</td>\n",
       "      <td>1.0</td>\n",
       "    </tr>\n",
       "    <tr>\n",
       "      <th>...</th>\n",
       "      <td>...</td>\n",
       "      <td>...</td>\n",
       "      <td>...</td>\n",
       "      <td>...</td>\n",
       "      <td>...</td>\n",
       "      <td>...</td>\n",
       "      <td>...</td>\n",
       "      <td>...</td>\n",
       "    </tr>\n",
       "    <tr>\n",
       "      <th>25700154</th>\n",
       "      <td>Q9Z2W9</td>\n",
       "      <td>6.0</td>\n",
       "      <td>15.0</td>\n",
       "      <td>CNC(=O)Cn1c(=O)c(=O)[nH]c2cc(C(F)(F)F)c(-n3ccc...</td>\n",
       "      <td>O=C(O)Cn1c(=O)c(=O)[nH]c2cc([N+](=O)[O-])c(-n3...</td>\n",
       "      <td>4.70</td>\n",
       "      <td>7.16</td>\n",
       "      <td>1.0</td>\n",
       "    </tr>\n",
       "    <tr>\n",
       "      <th>25700165</th>\n",
       "      <td>Q9Z2W9</td>\n",
       "      <td>9.0</td>\n",
       "      <td>15.0</td>\n",
       "      <td>O=C(Cn1c(=O)c(=O)[nH]c2cc([N+](=O)[O-])c(-n3cc...</td>\n",
       "      <td>O=C(O)Cn1c(=O)c(=O)[nH]c2cc([N+](=O)[O-])c(-n3...</td>\n",
       "      <td>4.70</td>\n",
       "      <td>7.16</td>\n",
       "      <td>1.0</td>\n",
       "    </tr>\n",
       "    <tr>\n",
       "      <th>25700171</th>\n",
       "      <td>Q9Z2W9</td>\n",
       "      <td>10.0</td>\n",
       "      <td>15.0</td>\n",
       "      <td>O=C(Cn1c(=O)c(=O)[nH]c2cc([N+](=O)[O-])c(-n3cc...</td>\n",
       "      <td>O=C(O)Cn1c(=O)c(=O)[nH]c2cc([N+](=O)[O-])c(-n3...</td>\n",
       "      <td>4.70</td>\n",
       "      <td>7.16</td>\n",
       "      <td>1.0</td>\n",
       "    </tr>\n",
       "    <tr>\n",
       "      <th>25700191</th>\n",
       "      <td>Q9Z2W9</td>\n",
       "      <td>15.0</td>\n",
       "      <td>17.0</td>\n",
       "      <td>O=C(O)Cn1c(=O)c(=O)[nH]c2cc([N+](=O)[O-])c(-n3...</td>\n",
       "      <td>O=c1[nH]c2cc(-n3cccc3)c([N+](=O)[O-])cc2n(C2CC...</td>\n",
       "      <td>7.16</td>\n",
       "      <td>4.60</td>\n",
       "      <td>1.0</td>\n",
       "    </tr>\n",
       "    <tr>\n",
       "      <th>25700203</th>\n",
       "      <td>Q9Z2Z8</td>\n",
       "      <td>0.0</td>\n",
       "      <td>3.0</td>\n",
       "      <td>CC(C)SCCC(C)C1CCC2C3CC=C4CC(O)CCC4(C)C3CCC12C</td>\n",
       "      <td>CC(CC[S+](C)C(C)C)C1CCC2C3CC=C4CC(O)CCC4(C)C3C...</td>\n",
       "      <td>5.70</td>\n",
       "      <td>8.40</td>\n",
       "      <td>1.0</td>\n",
       "    </tr>\n",
       "  </tbody>\n",
       "</table>\n",
       "<p>5039425 rows × 8 columns</p>\n",
       "</div>"
      ],
      "text/plain": [
       "          UniProt_ID  start_index  end_index  \\\n",
       "153       A0A1D8D5K2          1.0        5.0   \n",
       "162       A0A1D8D5K2          4.0        5.0   \n",
       "179           A3EZI9          0.0        5.0   \n",
       "180           A3EZI9          0.0        7.0   \n",
       "181           A3EZI9          0.0        8.0   \n",
       "...              ...          ...        ...   \n",
       "25700154      Q9Z2W9          6.0       15.0   \n",
       "25700165      Q9Z2W9          9.0       15.0   \n",
       "25700171      Q9Z2W9         10.0       15.0   \n",
       "25700191      Q9Z2W9         15.0       17.0   \n",
       "25700203      Q9Z2Z8          0.0        3.0   \n",
       "\n",
       "                                               start_smiles  \\\n",
       "153       CCCCN1C(=N)C(C(CC2CCCNC2=O)NC(=O)C(Cc2ccc(F)cc...   \n",
       "162       Cc1cc(C(=O)NC(Cc2ccc(F)cc2)C(=O)NC(CC2CCCNC2=O...   \n",
       "179       C=CC1CC1(NC(=O)C1CC2CN1C(=O)C(C(C)(C)C)NC(=O)O...   \n",
       "180       C=CC1CC1(NC(=O)C1CC2CN1C(=O)C(C(C)(C)C)NC(=O)O...   \n",
       "181       C=CC1CC1(NC(=O)C1CC2CN1C(=O)C(C(C)(C)C)NC(=O)O...   \n",
       "...                                                     ...   \n",
       "25700154  CNC(=O)Cn1c(=O)c(=O)[nH]c2cc(C(F)(F)F)c(-n3ccc...   \n",
       "25700165  O=C(Cn1c(=O)c(=O)[nH]c2cc([N+](=O)[O-])c(-n3cc...   \n",
       "25700171  O=C(Cn1c(=O)c(=O)[nH]c2cc([N+](=O)[O-])c(-n3cc...   \n",
       "25700191  O=C(O)Cn1c(=O)c(=O)[nH]c2cc([N+](=O)[O-])c(-n3...   \n",
       "25700203      CC(C)SCCC(C)C1CCC2C3CC=C4CC(O)CCC4(C)C3CCC12C   \n",
       "\n",
       "                                                 end_smiles  \\\n",
       "153       Cc1cc(C(=O)NC(Cc2ccc(F)cc2)C(=O)NC(CC2CCCNC2=O...   \n",
       "162       Cc1cc(C(=O)NC(Cc2ccc(F)cc2)C(=O)NC(CC2CCCNC2=O...   \n",
       "179       C=CC1CC1(NC(=O)C1CC2CN1C(=O)C(C1CCCCC1)NC(=O)O...   \n",
       "180       C=CCCCS(=O)(=O)NC(=O)C(CCC)NC(=O)C1NC(=O)C(C(C...   \n",
       "181       C=CCCCS(=O)(=O)NC(=O)c1ccccc1NC(=O)C(NC(=O)OC(...   \n",
       "...                                                     ...   \n",
       "25700154  O=C(O)Cn1c(=O)c(=O)[nH]c2cc([N+](=O)[O-])c(-n3...   \n",
       "25700165  O=C(O)Cn1c(=O)c(=O)[nH]c2cc([N+](=O)[O-])c(-n3...   \n",
       "25700171  O=C(O)Cn1c(=O)c(=O)[nH]c2cc([N+](=O)[O-])c(-n3...   \n",
       "25700191  O=c1[nH]c2cc(-n3cccc3)c([N+](=O)[O-])cc2n(C2CC...   \n",
       "25700203  CC(CC[S+](C)C(C)C)C1CCC2C3CC=C4CC(O)CCC4(C)C3C...   \n",
       "\n",
       "          start_activity_value  end_activity_value  label  \n",
       "153                       5.59                8.40    1.0  \n",
       "162                       6.25                8.40    1.0  \n",
       "179                      10.70                7.82    1.0  \n",
       "180                      10.70                5.80    1.0  \n",
       "181                      10.70                6.66    1.0  \n",
       "...                        ...                 ...    ...  \n",
       "25700154                  4.70                7.16    1.0  \n",
       "25700165                  4.70                7.16    1.0  \n",
       "25700171                  4.70                7.16    1.0  \n",
       "25700191                  7.16                4.60    1.0  \n",
       "25700203                  5.70                8.40    1.0  \n",
       "\n",
       "[5039425 rows x 8 columns]"
      ]
     },
     "execution_count": 76,
     "metadata": {},
     "output_type": "execute_result"
    }
   ],
   "source": [
    "ac_ki = ac_ki.reset_index(drop=True)\n",
    "ac_ki[ac_ki['label']==1]"
   ]
  },
  {
   "cell_type": "code",
   "execution_count": null,
   "metadata": {},
   "outputs": [
    {
     "data": {
      "image/png": "[encoded data removed]",
      "text/plain": [
       "<rdkit.Chem.rdchem.Mol at 0x16bb27f6a50>"
      ]
     },
     "execution_count": 81,
     "metadata": {},
     "output_type": "execute_result"
    }
   ],
   "source": [
    "from rdkit import Chem\n",
    "Chem.MolFromSmiles(ac_ki.iloc[179]['start_smiles'])"
   ]
  },
  {
   "cell_type": "code",
   "execution_count": null,
   "metadata": {},
   "outputs": [
    {
     "data": {
      "image/png": "[encoded data removed]",
      "text/plain": [
       "<rdkit.Chem.rdchem.Mol at 0x16bb27f6970>"
      ]
     },
     "execution_count": 82,
     "metadata": {},
     "output_type": "execute_result"
    }
   ],
   "source": [
    "Chem.MolFromSmiles(ac_ki.iloc[179]['end_smiles'])"
   ]
  },
  {
   "cell_type": "code",
   "execution_count": null,
   "metadata": {},
   "outputs": [],
   "source": [
    "def load_smiles_from_pickle(file_name):\n",
    "    with open(file_name, 'rb') as f:\n",
    "        smiles = pickle.load(f)\n",
    "    return smiles\n",
    "\n",
    "smiles = load_smiles_from_pickle('Integrated_dataset/smiles_dict.pkl')"
   ]
  },
  {
   "cell_type": "code",
   "execution_count": null,
   "metadata": {},
   "outputs": [],
   "source": []
  },
  {
   "cell_type": "code",
   "execution_count": null,
   "metadata": {},
   "outputs": [],
   "source": []
  },
  {
   "cell_type": "code",
   "execution_count": null,
   "metadata": {},
   "outputs": [],
   "source": []
  },
  {
   "cell_type": "code",
   "execution_count": null,
   "metadata": {},
   "outputs": [],
   "source": []
  }
 ],
 "metadata": {
  "kernelspec": {
   "display_name": "chem",
   "language": "python",
   "name": "python3"
  },
  "language_info": {
   "codemirror_mode": {
    "name": "ipython",
    "version": 3
   },
   "file_extension": ".py",
   "mimetype": "text/x-python",
   "name": "python",
   "nbconvert_exporter": "python",
   "pygments_lexer": "ipython3",
   "version": "3.9.18"
  },
  "orig_nbformat": 4
 },
 "nbformat": 4,
 "nbformat_minor": 2
}
