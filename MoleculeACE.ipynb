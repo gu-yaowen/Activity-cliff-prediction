{
 "cells": [
  {
   "cell_type": "code",
   "execution_count": 2,
   "metadata": {},
   "outputs": [],
   "source": [
    "# from MoleculeACE import MPNN, Data, calc_rmse, calc_cliff_rmse, get_benchmark_config\n",
    "# from Feature.const import Descriptors\n",
    "# import torch\n",
    "import os\n",
    "# import torch.nn as nn\n",
    "import numpy as np\n",
    "import pandas as pd\n",
    "# from main import set_up"
   ]
  },
  {
   "cell_type": "code",
   "execution_count": 10,
   "metadata": {},
   "outputs": [
    {
     "name": "stderr",
     "output_type": "stream",
     "text": [
      "2023-10-23 23:48:22,733 - INFO - current task: CHEMBL1862_Ki\n",
      "2023-10-23 23:48:22,733 - INFO - current task: CHEMBL1862_Ki\n",
      "2023-10-23 23:48:22,734 - INFO - arguments: Namespace(activation='ReLU', atom_messages=False, baseline_model='MolTrans', batch_size=256, bias=False, checkpoint_dir=None, checkpoint_path='KANO_model/dumped/pretrained_graph_encoder/original_CMPN_0623_1350_14000th_epoch.pkl', checkpoint_paths=['KANO_model/dumped/pretrained_graph_encoder/original_CMPN_0623_1350_14000th_epoch.pkl'], config_path=None, crossval_index_dir=None, crossval_index_file=None, cuda=True, data_name='CHEMBL1862_Ki', data_path='data/MoleculeACE/CHEMBL1862_Ki.csv', dataset_type='regression', depth=3, dropout=0.0, dump_path='dumped', encoder_name='CMPNN', ensemble_size=1, epochs=100, exp_id='bbbp_test', exp_name='finetune', features_generator=None, features_only=False, features_path=None, features_scaling=True, ffn_hidden_size=300, ffn_num_layers=2, final_lr=0.0001, folds_file=None, gpu=0, hidden_size=300, init_lr=0.0001, log_frequency=10, max_data_size=None, max_lr=0.001, metric='r2', minimize_score=True, mode='baseline_CPI', multiclass_num_classes=3, no_cache=False, num_lrs=1, num_runs=1, quiet=False, save_dir=None, save_path='exp_results\\\\MolTrans', save_smiles_splits=False, seed=0, separate_test_features_path=None, separate_test_path=None, separate_val_features_path=None, separate_val_path=None, show_individual_scores=False, split_sizes=[0.8, 0.1, 0.1], split_type='scaffold_balanced', step='functional_prompt', temperature=0.1, test=False, test_fold_index=None, undirected=False, use_compound_names=False, use_input_features=None, val_fold_index=None, warmup_epochs=2.0)\n",
      "2023-10-23 23:48:22,734 - INFO - arguments: Namespace(activation='ReLU', atom_messages=False, baseline_model='MolTrans', batch_size=256, bias=False, checkpoint_dir=None, checkpoint_path='KANO_model/dumped/pretrained_graph_encoder/original_CMPN_0623_1350_14000th_epoch.pkl', checkpoint_paths=['KANO_model/dumped/pretrained_graph_encoder/original_CMPN_0623_1350_14000th_epoch.pkl'], config_path=None, crossval_index_dir=None, crossval_index_file=None, cuda=True, data_name='CHEMBL1862_Ki', data_path='data/MoleculeACE/CHEMBL1862_Ki.csv', dataset_type='regression', depth=3, dropout=0.0, dump_path='dumped', encoder_name='CMPNN', ensemble_size=1, epochs=100, exp_id='bbbp_test', exp_name='finetune', features_generator=None, features_only=False, features_path=None, features_scaling=True, ffn_hidden_size=300, ffn_num_layers=2, final_lr=0.0001, folds_file=None, gpu=0, hidden_size=300, init_lr=0.0001, log_frequency=10, max_data_size=None, max_lr=0.001, metric='r2', minimize_score=True, mode='baseline_CPI', multiclass_num_classes=3, no_cache=False, num_lrs=1, num_runs=1, quiet=False, save_dir=None, save_path='exp_results\\\\MolTrans', save_smiles_splits=False, seed=0, separate_test_features_path=None, separate_test_path=None, separate_val_features_path=None, separate_val_path=None, show_individual_scores=False, split_sizes=[0.8, 0.1, 0.1], split_type='scaffold_balanced', step='functional_prompt', temperature=0.1, test=False, test_fold_index=None, undirected=False, use_compound_names=False, use_input_features=None, val_fold_index=None, warmup_epochs=2.0)\n",
      "2023-10-23 23:48:22,735 - INFO - random seed: 0\n",
      "2023-10-23 23:48:22,735 - INFO - random seed: 0\n",
      "2023-10-23 23:48:22,736 - INFO - save path: exp_results\\MolTrans\n",
      "2023-10-23 23:48:22,736 - INFO - save path: exp_results\\MolTrans\n"
     ]
    }
   ],
   "source": [
    "from argparse import Namespace\n",
    "args = Namespace(activation='ReLU', atom_messages=False, batch_size=256, bias=False,\n",
    "                 checkpoint_dir=None,\n",
    "                 checkpoint_path='KANO_model/dumped/pretrained_graph_encoder/original_CMPN_0623_1350_14000th_epoch.pkl', checkpoint_paths=['KANO_model/dumped/pretrained_graph_encoder/original_CMPN_0623_1350_14000th_epoch.pkl'],\n",
    "                 config_path=None, crossval_index_dir=None, crossval_index_file=None, cuda=True,\n",
    "                 data_path='data/MoleculeACE/CHEMBL1862_Ki.csv', dataset_type='regression', depth=3,\n",
    "                 dropout=0.0, dump_path='dumped', encoder_name='CMPNN', ensemble_size=1, epochs=100,\n",
    "                 exp_id='bbbp_test', exp_name='finetune', features_generator=None, features_only=False,\n",
    "                 features_path=None, features_scaling=True, ffn_hidden_size=300, ffn_num_layers=2, final_lr=0.0001,\n",
    "                 folds_file=None, gpu=0, hidden_size=300, init_lr=0.0001, log_frequency=10, max_data_size=None,\n",
    "                 max_lr=0.001, metric='r2', minimize_score=True, multiclass_num_classes=3, no_cache=False,\n",
    "                 num_lrs=1, num_runs=1, quiet=False, save_dir=None, save_smiles_splits=False, seed=0,\n",
    "                 separate_test_features_path=None, separate_test_path=None, separate_val_features_path=None,\n",
    "                 separate_val_path=None, show_individual_scores=False, split_sizes=[0.8, 0.1, 0.1],\n",
    "                 split_type='scaffold_balanced', step='functional_prompt', temperature=0.1, test=False,\n",
    "                 test_fold_index=None, undirected=False, use_compound_names=False, use_input_features=None,\n",
    "                 val_fold_index=None, warmup_epochs=2.0)\n",
    "args.save_path = 'exp_results/MolTrans'\n",
    "args.baseline_model = 'MolTrans'\n",
    "args.mode = 'baseline_CPI'\n",
    "args.data_name = args.data_path.split('/')[-1].split('.')[0]\n",
    "args, logger = set_up(args)"
   ]
  },
  {
   "cell_type": "code",
   "execution_count": 11,
   "metadata": {},
   "outputs": [],
   "source": [
    "MOLECULEACE_DATALIST = ['CHEMBL1862_Ki', 'CHEMBL1871_Ki', 'CHEMBL2034_Ki', 'CHEMBL2047_EC50',\n",
    "                        'CHEMBL204_Ki', 'CHEMBL2147_Ki', 'CHEMBL214_Ki', 'CHEMBL218_EC50',\n",
    "                        'CHEMBL219_Ki', 'CHEMBL228_Ki', 'CHEMBL231_Ki', 'CHEMBL233_Ki',\n",
    "                        'CHEMBL234_Ki', 'CHEMBL235_EC50', 'CHEMBL236_Ki', 'CHEMBL237_EC50',\n",
    "                        'CHEMBL237_Ki', 'CHEMBL238_Ki', 'CHEMBL239_EC50', 'CHEMBL244_Ki',\n",
    "                        'CHEMBL262_Ki', 'CHEMBL264_Ki', 'CHEMBL2835_Ki', 'CHEMBL287_Ki',\n",
    "                        'CHEMBL2971_Ki', 'CHEMBL3979_EC50', 'CHEMBL4005_Ki', 'CHEMBL4203_Ki',\n",
    "                        'CHEMBL4616_EC50', 'CHEMBL4792_Ki']"
   ]
  },
  {
   "cell_type": "code",
   "execution_count": 3,
   "metadata": {},
   "outputs": [
    {
     "ename": "ModuleNotFoundError",
     "evalue": "No module named 'torch'",
     "output_type": "error",
     "traceback": [
      "\u001b[0;31m---------------------------------------------------------------------------\u001b[0m",
      "\u001b[0;31mModuleNotFoundError\u001b[0m                       Traceback (most recent call last)",
      "\u001b[1;32m/scratch/yg3191/Activity-cliff-prediction/MoleculeACE.ipynb 单元格 4\u001b[0m line \u001b[0;36m1\n\u001b[0;32m----> <a href='vscode-notebook-cell://ssh-remote%2Bgreene.hpc.nyu.edu/scratch/yg3191/Activity-cliff-prediction/MoleculeACE.ipynb#W3sdnNjb2RlLXJlbW90ZQ%3D%3D?line=0'>1</a>\u001b[0m \u001b[39mfrom\u001b[39;00m \u001b[39mCPI_baseline\u001b[39;00m\u001b[39m.\u001b[39;00m\u001b[39mMolTrans\u001b[39;00m \u001b[39mimport\u001b[39;00m MolTrans\n\u001b[1;32m      <a href='vscode-notebook-cell://ssh-remote%2Bgreene.hpc.nyu.edu/scratch/yg3191/Activity-cliff-prediction/MoleculeACE.ipynb#W3sdnNjb2RlLXJlbW90ZQ%3D%3D?line=1'>2</a>\u001b[0m \u001b[39mfrom\u001b[39;00m \u001b[39mCPI_baseline\u001b[39;00m\u001b[39m.\u001b[39;00m\u001b[39mutils\u001b[39;00m \u001b[39mimport\u001b[39;00m MolTrans_config_DBPE, MolTrans_Data_Encoder\n\u001b[1;32m      <a href='vscode-notebook-cell://ssh-remote%2Bgreene.hpc.nyu.edu/scratch/yg3191/Activity-cliff-prediction/MoleculeACE.ipynb#W3sdnNjb2RlLXJlbW90ZQ%3D%3D?line=2'>3</a>\u001b[0m \u001b[39mfrom\u001b[39;00m \u001b[39mdata_prep\u001b[39;00m \u001b[39mimport\u001b[39;00m process_data_CPI\n",
      "File \u001b[0;32m/scratch/yg3191/Activity-cliff-prediction/CPI_baseline/MolTrans.py:2\u001b[0m\n\u001b[1;32m      1\u001b[0m \u001b[39mfrom\u001b[39;00m \u001b[39m__future__\u001b[39;00m \u001b[39mimport\u001b[39;00m print_function\n\u001b[0;32m----> 2\u001b[0m \u001b[39mimport\u001b[39;00m \u001b[39mtorch\u001b[39;00m\n\u001b[1;32m      3\u001b[0m \u001b[39mfrom\u001b[39;00m \u001b[39mtorch\u001b[39;00m \u001b[39mimport\u001b[39;00m nn\n\u001b[1;32m      4\u001b[0m \u001b[39mimport\u001b[39;00m \u001b[39mtorch\u001b[39;00m\u001b[39m.\u001b[39;00m\u001b[39mutils\u001b[39;00m\u001b[39m.\u001b[39;00m\u001b[39mdata\u001b[39;00m \u001b[39mas\u001b[39;00m \u001b[39mData\u001b[39;00m\n",
      "\u001b[0;31mModuleNotFoundError\u001b[0m: No module named 'torch'"
     ]
    }
   ],
   "source": [
    "from CPI_baseline.MolTrans import MolTrans\n",
    "from CPI_baseline.utils import MolTrans_config_DBPE, MolTrans_Data_Encoder\n",
    "from data_prep import process_data_CPI"
   ]
  },
  {
   "cell_type": "code",
   "execution_count": 13,
   "metadata": {},
   "outputs": [
    {
     "name": "stderr",
     "output_type": "stream",
     "text": [
      "2023-10-23 23:48:23,221 - INFO - Using GPU: 0\n",
      "2023-10-23 23:48:23,221 - INFO - Using GPU: 0\n",
      "2023-10-23 23:48:23,863 - INFO - Batch size 50, Learning rate 0.000100, Num epochs 50\n",
      "2023-10-23 23:48:23,863 - INFO - Batch size 50, Learning rate 0.000100, Num epochs 50\n",
      "2023-10-23 23:48:23,863 - INFO - Using GPU: 0\n",
      "2023-10-23 23:48:23,863 - INFO - Using GPU: 0\n"
     ]
    }
   ],
   "source": [
    "config = MolTrans_config_DBPE()\n",
    "args.gpu = 0\n",
    "model = MolTrans(args, logger, config)\n",
    "if args.gpu is not None:\n",
    "    device = torch.device(\"cuda:%d\" % args.gpu)\n",
    "    logger.info(\"Using GPU: %d\" % args.gpu)\n",
    "else:\n",
    "    device = torch.device(\"cpu\")\n",
    "    logger.info(\"Using CPU\")\n"
   ]
  },
  {
   "cell_type": "code",
   "execution_count": null,
   "metadata": {},
   "outputs": [
    {
     "name": "stdout",
     "output_type": "stream",
     "text": [
      "torch.Size([50, 50])\n"
     ]
    }
   ],
   "source": [
    "device = torch.device(\"cuda:%d\" % args.gpu)\n",
    "for i, (d, p, d_mask, p_mask, label) in enumerate(train_data):\n",
    "    print(d.shape)\n",
    "    break"
   ]
  },
  {
   "cell_type": "code",
   "execution_count": null,
   "metadata": {},
   "outputs": [],
   "source": [
    "import torch\n",
    "import esm\n",
    "import tqdm\n",
    "import pickle\n",
    "\n",
    "# Load ESM-2 model\n",
    "model, alphabet = esm.pretrained.esm2_t33_650M_UR50D()\n",
    "batch_converter = alphabet.get_batch_converter()\n",
    "model.eval()  # disables dropout for deterministic results\n",
    "token_representations = []\n",
    "for idx, data in tqdm.tqdm(enumerate(prot_data),\n",
    "                           total=len(prot_data)):\n",
    "    batch_labels, batch_strs, batch_tokens = batch_converter([data])\n",
    "    batch_lens = (batch_tokens != alphabet.padding_idx).sum(1)\n",
    "    with torch.no_grad():\n",
    "        results = model(batch_tokens, repr_layers=[33], return_contacts=True)\n",
    "    prot_data[idx] = prot_data[idx] + \\\n",
    "                    (results[\"representations\"][33][0, 1: batch_lens-1].cpu().numpy(),)\n",
    "    # token_representations.append(results[\"representations\"][33])\n",
    "with open('data/MoleculeACE/prot_feat_esm2.pkl', 'wb') as f:\n",
    "    pickle.dump(prot_data, f)"
   ]
  },
  {
   "cell_type": "code",
   "execution_count": 5,
   "metadata": {},
   "outputs": [
    {
     "ename": "NameError",
     "evalue": "name 'calc_rmse' is not defined",
     "output_type": "error",
     "traceback": [
      "\u001b[0;31m---------------------------------------------------------------------------\u001b[0m",
      "\u001b[0;31mNameError\u001b[0m                                 Traceback (most recent call last)",
      "\u001b[1;32m/scratch/yg3191/Activity-cliff-prediction/MoleculeACE.ipynb 单元格 8\u001b[0m line \u001b[0;36m7\n\u001b[1;32m      <a href='vscode-notebook-cell://ssh-remote%2Bgreene.hpc.nyu.edu/scratch/yg3191/Activity-cliff-prediction/MoleculeACE.ipynb#X24sdnNjb2RlLXJlbW90ZQ%3D%3D?line=4'>5</a>\u001b[0m     pre \u001b[39m=\u001b[39m pred[pred[\u001b[39m'\u001b[39m\u001b[39mChembl_id\u001b[39m\u001b[39m'\u001b[39m]\u001b[39m==\u001b[39mi]\n\u001b[1;32m      <a href='vscode-notebook-cell://ssh-remote%2Bgreene.hpc.nyu.edu/scratch/yg3191/Activity-cliff-prediction/MoleculeACE.ipynb#X24sdnNjb2RlLXJlbW90ZQ%3D%3D?line=5'>6</a>\u001b[0m     label, preds \u001b[39m=\u001b[39m pre[\u001b[39m'\u001b[39m\u001b[39my\u001b[39m\u001b[39m'\u001b[39m]\u001b[39m.\u001b[39mvalues, pre[\u001b[39m'\u001b[39m\u001b[39mPrediction\u001b[39m\u001b[39m'\u001b[39m]\u001b[39m.\u001b[39mvalues\n\u001b[0;32m----> <a href='vscode-notebook-cell://ssh-remote%2Bgreene.hpc.nyu.edu/scratch/yg3191/Activity-cliff-prediction/MoleculeACE.ipynb#X24sdnNjb2RlLXJlbW90ZQ%3D%3D?line=6'>7</a>\u001b[0m     rmse\u001b[39m.\u001b[39mappend(calc_rmse(label, preds))\n\u001b[1;32m      <a href='vscode-notebook-cell://ssh-remote%2Bgreene.hpc.nyu.edu/scratch/yg3191/Activity-cliff-prediction/MoleculeACE.ipynb#X24sdnNjb2RlLXJlbW90ZQ%3D%3D?line=7'>8</a>\u001b[0m     rmse_cliff\u001b[39m.\u001b[39mappend(calc_cliff_rmse(preds, label, cliff_mols_test\u001b[39m=\u001b[39mpre[\u001b[39m'\u001b[39m\u001b[39mcliff_mol\u001b[39m\u001b[39m'\u001b[39m]\u001b[39m.\u001b[39mvalues))\n\u001b[1;32m      <a href='vscode-notebook-cell://ssh-remote%2Bgreene.hpc.nyu.edu/scratch/yg3191/Activity-cliff-prediction/MoleculeACE.ipynb#X24sdnNjb2RlLXJlbW90ZQ%3D%3D?line=8'>9</a>\u001b[0m \u001b[39mprint\u001b[39m(\u001b[39m'\u001b[39m\u001b[39mRMSE:\u001b[39m\u001b[39m'\u001b[39m, np\u001b[39m.\u001b[39mmean(rmse))\n",
      "\u001b[0;31mNameError\u001b[0m: name 'calc_rmse' is not defined"
     ]
    }
   ],
   "source": [
    "pred = pd.read_csv('exp_results/MolTrans/MolTrans_test_pred.csv')\n",
    "task = pred['Chembl_id'].unique()\n",
    "rmse, rmse_cliff = [], []\n",
    "for i in task:\n",
    "    pre = pred[pred['Chembl_id']==i]\n",
    "    label, preds = pre['y'].values, pre['Prediction'].values\n",
    "    rmse.append(calc_rmse(label, preds))\n",
    "    rmse_cliff.append(calc_cliff_rmse(preds, label, cliff_mols_test=pre['cliff_mol'].values))\n",
    "print('RMSE:', np.mean(rmse))\n",
    "print('RMSE std:', np.std(rmse))\n",
    "print('RMSE_cliff:', np.mean(rmse_cliff))\n",
    "print('RMSE_cliff std:', np.std(rmse_cliff))"
   ]
  },
  {
   "cell_type": "code",
   "execution_count": null,
   "metadata": {},
   "outputs": [
    {
     "name": "stdout",
     "output_type": "stream",
     "text": [
      "RMSE: 0.7105849246736813\n",
      "RMSE std: 0.09509675307764494\n",
      "RMSE_cliff: 0.7872809917927022\n",
      "RMSE_cliff std: 0.10772807741169514\n"
     ]
    }
   ],
   "source": [
    "rmse, rmse_cliff = [], []\n",
    "for task in MOLECULEACE_DATALIST:\n",
    "    pred = pd.read_csv(f'exp_results/{task}/0/test_pred.csv')\n",
    "    label, preds = pred['y'].values, pred['Prediction'].values\n",
    "    rmse.append(calc_rmse(label, preds))\n",
    "    rmse_cliff.append(calc_cliff_rmse(preds, label, cliff_mols_test=pred['cliff_mol'].values))\n",
    "print('RMSE:', np.mean(rmse))\n",
    "print('RMSE std:', np.std(rmse))\n",
    "print('RMSE_cliff:', np.mean(rmse_cliff))\n",
    "print('RMSE_cliff std:', np.std(rmse_cliff))"
   ]
  },
  {
   "cell_type": "code",
   "execution_count": null,
   "metadata": {},
   "outputs": [],
   "source": []
  },
  {
   "cell_type": "code",
   "execution_count": null,
   "metadata": {},
   "outputs": [],
   "source": []
  },
  {
   "cell_type": "code",
   "execution_count": null,
   "metadata": {},
   "outputs": [],
   "source": []
  },
  {
   "cell_type": "code",
   "execution_count": null,
   "metadata": {},
   "outputs": [],
   "source": []
  },
  {
   "cell_type": "code",
   "execution_count": null,
   "metadata": {},
   "outputs": [],
   "source": [
    "import os\n",
    "from MoleculeACE.benchmark.utils import calc_rmse, calc_cliff_rmse"
   ]
  },
  {
   "cell_type": "code",
   "execution_count": null,
   "metadata": {},
   "outputs": [],
   "source": [
    "rmse, rmse_cliff = [], []\n",
    "for task in os.listdir(path='exp_results'):\n",
    "    pred = pd.read_csv(f'exp_results/{task}/0/test_pred.csv')\n",
    "    label, preds = pred['y'].values, pred['Prediction'].values\n",
    "    rmse.append(calc_rmse(label, preds))\n",
    "    rmse_cliff.append(calc_cliff_rmse(label, preds, cliff_mols_test=pred['cliff_mol'].values))"
   ]
  },
  {
   "cell_type": "code",
   "execution_count": null,
   "metadata": {},
   "outputs": [
    {
     "data": {
      "text/plain": [
       "(0.7105849246736813, 0.7872809917927022)"
      ]
     },
     "execution_count": 24,
     "metadata": {},
     "output_type": "execute_result"
    }
   ],
   "source": [
    "np.mean(rmse), np.mean(rmse_cliff)"
   ]
  },
  {
   "cell_type": "code",
   "execution_count": null,
   "metadata": {},
   "outputs": [
    {
     "name": "stdout",
     "output_type": "stream",
     "text": [
      "Current epoch:  0\n",
      "Epoch : 00, Training Loss : 2.0623, Validation score : 1.4718, Test score : 1.4785\n",
      "Best model saved at epoch : 00, Validation score : 1.4718\n",
      "Current epoch:  1\n",
      "Epoch : 01, Training Loss : 2.0272, Validation score : 2.2417, Test score : 1.6129\n"
     ]
    }
   ],
   "source": [
    "n_iter = 0\n",
    "args.epochs = 2\n",
    "args.prompt = False\n",
    "metric_dict = set_collect_metric(args)\n",
    "best_score = float('inf') if args.minimize_score else -float('inf')\n",
    "\n",
    "for epoch in range(args.epochs):\n",
    "    print('Current epoch: ', epoch)\n",
    "    n_iter, loss = train_epoch(args, model, train_data, loss_func, optimizer, scheduler, n_iter)\n",
    "\n",
    "    if isinstance(scheduler, ExponentialLR):\n",
    "        scheduler.step()\n",
    "    val_scores = evaluate_epoch(args, model, val_data, scaler)\n",
    "\n",
    "    test_pred = predict_epoch(args, model, test_data, scaler)\n",
    "    test_scores = evaluate_predictions(test_pred, test_data.targets(),\n",
    "                                       args.num_tasks, args.metric_func, args.dataset_type)\n",
    "    \n",
    "    print('Epoch : {:02d}, Training Loss : {:.4f}, ' \\\n",
    "          'Validation score : {:.4f}, Test score : {:.4f}'.format(epoch, loss,\n",
    "                                 list(val_scores.values())[0][0], list(test_scores.values())[0][0]))\n",
    "    metric_dict = collect_metric_epoch(metric_dict, loss, val_scores, test_scores)\n",
    "    \n",
    "    if args.minimize_score and list(val_scores.values())[0][0] < best_score or \\\n",
    "            not args.minimize_score and list(val_scores.values())[0][0] > best_score:\n",
    "        best_score, best_epoch = list(val_scores.values())[0][0], epoch\n",
    "        best_test_score = list(test_scores.values())[0][0]\n",
    "        save_checkpoint(os.path.join(args.save_dir, 'model.pt'), model, scaler, features_scaler, args) \n",
    "        print('Best model saved at epoch : {:02d}, Validation score : {:.4f}'.format(best_epoch, best_score))\n",
    "print('Final best performed model in {} epoch, val score: {:.4f}, test score: {:.4f}'.format(best_epoch, best_score, best_test_score))\n",
    "\n",
    "# save results\n",
    "pickle.dump(metric_dict, open(os.path.join(args.save_dir, 'metric_dict.pkl'), 'wb'))\n",
    "df['Prediction'] = None\n",
    "df.loc[test_idx, 'Prediction'] = test_pred\n",
    "df[df['split']=='test'].to_csv(os.path.join(args.save_dir, 'test_pred.csv'), index=False)"
   ]
  },
  {
   "cell_type": "code",
   "execution_count": null,
   "metadata": {},
   "outputs": [],
   "source": []
  }
 ],
 "metadata": {
  "kernelspec": {
   "display_name": "lab_env_2023",
   "language": "python",
   "name": "lab_env_2023"
  },
  "language_info": {
   "codemirror_mode": {
    "name": "ipython",
    "version": 3
   },
   "file_extension": ".py",
   "mimetype": "text/x-python",
   "name": "python",
   "nbconvert_exporter": "python",
   "pygments_lexer": "ipython3",
   "version": "3.9.12"
  },
  "orig_nbformat": 4
 },
 "nbformat": 4,
 "nbformat_minor": 2
}
